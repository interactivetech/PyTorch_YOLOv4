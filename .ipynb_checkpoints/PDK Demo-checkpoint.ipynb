{
 "cells": [
  {
   "cell_type": "markdown",
   "id": "f597baa0-6f7a-468c-a6dd-ee8486bcabad",
   "metadata": {},
   "source": [
    "# Continuous Training of AI for IBM North Pole Accelerator with HPE MLOPs Platform\n",
    "\n",
    "author: Andrew Mendez, andrew.mendez@hpe.com\n",
    "\n",
    "Version: 0.0.1\n",
    "\n",
    "Date: 1.18.24\n",
    "\n",
    "* In this notebook, we see how we can create an AI application that can automatically update as we add more data. \n",
    "* Specifically, we are continuosly training an object detection model to detect vehicles and personell in full-motion-video (FMV)\n",
    "* We use MLDM to manage data and pipeline orchestration and Streamlit for the user facing application.\n",
    "\n",
    "`Pre-requisites: This demo requires a GPU`\n",
    "\n",
    "Details:\n",
    "* We are finetuning a YoloV4 architecture (original codebase [WongKinYiu/PyTorch_YOLOv4](https://github.com/WongKinYiu/PyTorch_YOLOv4)\n",
    "* We develop an MLOPs pipeline that does the following:\n",
    "    * Load the initial dataset\n",
    "    * Preprocess the dataset\n",
    "    * Finetune a pretrained YoloV4 model on FMV data\n",
    "    * Export the model to run on the IBM NorthPole Chip\n",
    "    * Deploy a user facing application to process new FMV videos\n",
    "* We create and end-to-end MLOPs pipeline to show how we can continously update a model based on new data"
   ]
  },
  {
   "cell_type": "markdown",
   "id": "8f9f02fe-f9a4-4cad-9d9f-73c87993fd51",
   "metadata": {},
   "source": [
    "## Install pachctl and connect to pachyderm"
   ]
  },
  {
   "cell_type": "code",
   "execution_count": 133,
   "id": "e90cbdc7-8121-4b02-b709-753257056016",
   "metadata": {},
   "outputs": [
    {
     "name": "stdout",
     "output_type": "stream",
     "text": [
      "Context 'pachd-peer.pachyderm.svc.cluster.local:30653' set as active\n",
      "COMPONENT           VERSION             \n",
      "pachctl             2.8.2               \n",
      "pachd               2.8.2               \n"
     ]
    }
   ],
   "source": [
    "# Connect to deployed pachyderm application\n",
    "!pachctl connect pachd-peer.pachyderm.svc.cluster.local:30653\n",
    "# list current projects\n",
    "!pachctl version"
   ]
  },
  {
   "cell_type": "markdown",
   "id": "9aa481cd-f4aa-4004-9685-88b53f266023",
   "metadata": {},
   "source": [
    "## Create project and set active context"
   ]
  },
  {
   "cell_type": "code",
   "execution_count": 135,
   "id": "476e5821-bd25-41fe-af30-2d9b8205ae65",
   "metadata": {},
   "outputs": [
    {
     "name": "stdout",
     "output_type": "stream",
     "text": [
      "project \"north-pole\" already exists\n",
      "project north-pole already exists\n",
      "editing the currently active context \"pachd-peer.pachyderm.svc.cluster.local:30653\"\n"
     ]
    }
   ],
   "source": [
    "# Create Pachyderm application\n",
    "!pachctl create project north-pole\n",
    "# Set pachctl's active context to the deploy-rag project\n",
    "!pachctl config update context --project north-pole"
   ]
  },
  {
   "cell_type": "markdown",
   "id": "51e80c5e-26ea-40ff-8497-43dc3dfe016d",
   "metadata": {},
   "source": [
    "## Create the data repo. \n",
    " * The data repo contains the documents we will ingest into the vector database and RAG system"
   ]
  },
  {
   "cell_type": "code",
   "execution_count": 157,
   "id": "6a4f0f2a-443d-4713-ae27-a2f40d1a75e6",
   "metadata": {},
   "outputs": [],
   "source": [
    "!pachctl create repo data"
   ]
  },
  {
   "cell_type": "code",
   "execution_count": 158,
   "id": "c1c1d0ee-5a61-41b3-90d6-7b0dc3745710",
   "metadata": {},
   "outputs": [],
   "source": [
    "%%capture\n",
    "!pachctl put file -r  data@master:/ -f /nvmefs1/andrew.mendez/virat-aerial-156-frames-v2-coco-yolov5-subset/"
   ]
  },
  {
   "cell_type": "markdown",
   "id": "7c88db60-e9a6-49aa-9a9e-f220aecaedac",
   "metadata": {},
   "source": [
    "## Run train pipeline"
   ]
  },
  {
   "cell_type": "code",
   "execution_count": 160,
   "id": "34b5fb66-c8f1-4ccb-b815-87279001d888",
   "metadata": {},
   "outputs": [
    {
     "name": "stdout",
     "output_type": "stream",
     "text": [
      "Overwriting train.yaml\n"
     ]
    }
   ],
   "source": [
    "%%writefile train.yaml\n",
    "pipeline:\n",
    "    name: 'train'\n",
    "description: 'Finetune model on FMV dataset'\n",
    "input:\n",
    "    cross:\n",
    "        - pfs: \n",
    "            repo: 'data'\n",
    "            branch: 'master'\n",
    "            glob: '/'\n",
    "transform:\n",
    "    image: mendeza/yolov4-env:0.0.2\n",
    "    cmd: \n",
    "        - '/bin/sh'\n",
    "    stdin: \n",
    "        - 'bash /nvmefs1/shared_nb/01\\ -\\ Users/andrew.mendez/2024/PyTorch_YOLOv4/train-pipeline-runner.sh'\n",
    "        - 'echo \"$(openssl rand -base64 12)\" > /pfs/out/random_file.txt'\n",
    "    secrets:\n",
    "        - name: pipeline-secret\n",
    "          key: det_master\n",
    "          env_var: DET_MASTER\n",
    "        - name: pipeline-secret\n",
    "          key: det_user\n",
    "          env_var: DET_USER\n",
    "        - name: pipeline-secret\n",
    "          key: det_password\n",
    "          env_var: DET_PASSWORD\n",
    "        - name: pipeline-secret\n",
    "          key: pac_token\n",
    "          env_var: PAC_TOKEN\n",
    "autoscaling: False\n",
    "pod_patch: >-\n",
    "  [{\"op\": \"add\",\"path\": \"/volumes/-\",\"value\": {\"name\":\n",
    "  \"host-shared\",\"hostpath\": {\"path\":\n",
    "  \"/nvmefs1/\",\"type\": \"Directory\"}}}, {\"op\":\n",
    "  \"add\",\"path\": \"/containers/0/volumeMounts/-\",\"value\": {\"mountPath\":\n",
    "  \"/nvmefs1/\",\"name\": \"host-shared\"}}]"
   ]
  },
  {
   "cell_type": "code",
   "execution_count": 161,
   "id": "a4ee7209-d56a-4abd-8b1c-074e7a645141",
   "metadata": {},
   "outputs": [],
   "source": [
    "!pachctl create pipeline -f train.yaml"
   ]
  },
  {
   "cell_type": "markdown",
   "id": "c2a30c31-a76c-459b-8af9-317366d0dc56",
   "metadata": {},
   "source": [
    "## Run export pipeline"
   ]
  },
  {
   "cell_type": "code",
   "execution_count": 162,
   "id": "558e13b8-d9cc-4196-a307-90f508793ab0",
   "metadata": {},
   "outputs": [
    {
     "name": "stdout",
     "output_type": "stream",
     "text": [
      "Overwriting export.yaml\n"
     ]
    }
   ],
   "source": [
    "%%writefile export.yaml\n",
    "pipeline:\n",
    "    name: 'export'\n",
    "description: 'Export trained model for NorthPole Accelerator'\n",
    "input:\n",
    "    cross:\n",
    "        - pfs: \n",
    "            repo: 'data'\n",
    "            branch: 'master'\n",
    "            glob: '/'\n",
    "        - pfs: \n",
    "            repo: 'train'\n",
    "            branch: 'master'\n",
    "            glob: '/'\n",
    "transform:\n",
    "    image: mendeza/yolov4-env:0.0.2\n",
    "    cmd: \n",
    "        - '/bin/sh'\n",
    "    stdin: \n",
    "        - 'bash /nvmefs1/shared_nb/01\\ -\\ Users/andrew.mendez/2024/PyTorch_YOLOv4/export-model-runner.sh'\n",
    "        - 'cat /pfs/train/random_file.txt '\n",
    "        - 'cp /pfs/out/app_content.txt /nvmefs1/andrew.mendez/deployments_watcher/app_content.txt'\n",
    "    secrets:\n",
    "        - name: pipeline-secret\n",
    "          key: det_master\n",
    "          env_var: DET_MASTER\n",
    "        - name: pipeline-secret\n",
    "          key: det_user\n",
    "          env_var: DET_USER\n",
    "        - name: pipeline-secret\n",
    "          key: det_password\n",
    "          env_var: DET_PASSWORD\n",
    "        - name: pipeline-secret\n",
    "          key: pac_token\n",
    "          env_var: PAC_TOKEN\n",
    "autoscaling: False\n",
    "pod_patch: >-\n",
    "  [{\"op\": \"add\",\"path\": \"/volumes/-\",\"value\": {\"name\":\n",
    "  \"host-shared\",\"hostpath\": {\"path\":\n",
    "  \"/nvmefs1/\",\"type\": \"Directory\"}}}, {\"op\":\n",
    "  \"add\",\"path\": \"/containers/0/volumeMounts/-\",\"value\": {\"mountPath\":\n",
    "  \"/nvmefs1/\",\"name\": \"host-shared\"}}]"
   ]
  },
  {
   "cell_type": "code",
   "execution_count": 163,
   "id": "1f29136f-9305-4c7f-b781-db292e46d5f7",
   "metadata": {},
   "outputs": [],
   "source": [
    "!pachctl create pipeline -f export.yaml"
   ]
  },
  {
   "cell_type": "markdown",
   "id": "8daaab3e-3f4a-4d80-b781-1c3ef9167612",
   "metadata": {},
   "source": [
    "## Run deploy pipeline"
   ]
  },
  {
   "cell_type": "code",
   "execution_count": 199,
   "id": "b1fcafed-d8cd-4134-a237-02a5f93c054d",
   "metadata": {},
   "outputs": [
    {
     "name": "stdout",
     "output_type": "stream",
     "text": [
      "Overwriting deploy.yaml\n"
     ]
    }
   ],
   "source": [
    "%%writefile deploy.yaml\n",
    "pipeline:\n",
    "    name: 'deploy'\n",
    "description: 'Deploy application'\n",
    "input:\n",
    "    cross:\n",
    "        - pfs: \n",
    "            repo: 'data'\n",
    "            branch: 'master'\n",
    "            glob: '/'\n",
    "        - pfs: \n",
    "            repo: 'export'\n",
    "            branch: 'master'\n",
    "            glob: '/'\n",
    "transform:\n",
    "    image: mendeza/yolov4-env:0.0.2\n",
    "    cmd: \n",
    "        - '/bin/sh'\n",
    "    stdin: \n",
    "        - 'cp /pfs/export/* /pfs/out/' \n",
    "        - 'bash /nvmefs1/shared_nb/01\\ -\\ Users/andrew.mendez/2024/PyTorch_YOLOv4/app/deploy.sh'\n",
    "        - 'echo \"$(openssl rand -base64 12)\" > /pfs/out/random_file.txt'\n",
    "        - 'cat /pfs/out/app_content.txt'\n",
    "    secrets:\n",
    "        - name: pipeline-secret\n",
    "          key: det_master\n",
    "          env_var: DET_MASTER\n",
    "        - name: pipeline-secret\n",
    "          key: det_user\n",
    "          env_var: DET_USER\n",
    "        - name: pipeline-secret\n",
    "          key: det_password\n",
    "          env_var: DET_PASSWORD\n",
    "        - name: pipeline-secret\n",
    "          key: pac_token\n",
    "          env_var: PAC_TOKEN\n",
    "autoscaling: False\n",
    "pod_patch: >-\n",
    "  [{\"op\": \"add\",\"path\": \"/volumes/-\",\"value\": {\"name\":\n",
    "  \"host-shared\",\"hostpath\": {\"path\":\n",
    "  \"/nvmefs1/\",\"type\": \"Directory\"}}}, {\"op\":\n",
    "  \"add\",\"path\": \"/containers/0/volumeMounts/-\",\"value\": {\"mountPath\":\n",
    "  \"/nvmefs1/\",\"name\": \"host-shared\"}}]"
   ]
  },
  {
   "cell_type": "code",
   "execution_count": 201,
   "id": "d49b763f-cc76-4091-8bd8-67acd900b7df",
   "metadata": {},
   "outputs": [],
   "source": [
    "!pachctl create pipeline -f deploy.yaml"
   ]
  },
  {
   "cell_type": "markdown",
   "id": "68ed5ad5-8095-4162-addc-9377212e2bdd",
   "metadata": {},
   "source": [
    "## Add More Data"
   ]
  },
  {
   "cell_type": "code",
   "execution_count": 171,
   "id": "0fb46b3e-d9ed-4ee2-8b1e-6e41f98dfc7c",
   "metadata": {},
   "outputs": [],
   "source": [
    "%%capture\n",
    "!pachctl put file -r  data@master:/ -f /nvmefs1/andrew.mendez/virat-aerial-156-frames-v2-coco-yolov5/"
   ]
  },
  {
   "cell_type": "code",
   "execution_count": 156,
   "id": "6d85f0e1-6988-4c6c-80a2-7eaacedb6786",
   "metadata": {},
   "outputs": [
    {
     "name": "stdout",
     "output_type": "stream",
     "text": [
      "Repo deleted.\n"
     ]
    }
   ],
   "source": [
    "!pachctl delete pipeline deploy\n",
    "!pachctl delete pipeline export\n",
    "!pachctl delete pipeline train\n",
    "!pachctl delete repo data"
   ]
  },
  {
   "cell_type": "markdown",
   "id": "e066ae45-4c62-478b-91b7-43fb50387063",
   "metadata": {},
   "source": [
    "* kubectl delete pod -n pachyderm streamlit-np-pod"
   ]
  }
 ],
 "metadata": {
  "kernelspec": {
   "display_name": "Python 3 (ipykernel)",
   "language": "python",
   "name": "python3"
  },
  "language_info": {
   "codemirror_mode": {
    "name": "ipython",
    "version": 3
   },
   "file_extension": ".py",
   "mimetype": "text/x-python",
   "name": "python",
   "nbconvert_exporter": "python",
   "pygments_lexer": "ipython3",
   "version": "3.8.16"
  }
 },
 "nbformat": 4,
 "nbformat_minor": 5
}

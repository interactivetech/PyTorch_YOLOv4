{
 "cells": [
  {
   "cell_type": "markdown",
   "id": "f597baa0-6f7a-468c-a6dd-ee8486bcabad",
   "metadata": {},
   "source": [
    "# Continuous Training of AI for IBM North Pole Accelerator with HPE MLOPs Platform\n",
    "\n",
    "author: Andrew Mendez, andrew.mendez@hpe.com\n",
    "\n",
    "Version: 0.0.1\n",
    "\n",
    "Date: 1.18.24\n",
    "\n",
    "* In this notebook, we see how we can create an AI application that can automatically update as we add more data. \n",
    "* Specifically, we are continuosly training an object detection model to detect vehicles and personell in full-motion-video (FMV)\n",
    "* We use MLDM to manage data and pipeline orchestration and Streamlit for the user facing application.\n",
    "\n",
    "`Pre-requisites: This demo requires a GPU`\n",
    "\n",
    "Details:\n",
    "* We are finetuning a YoloV4 architecture (original codebase [WongKinYiu/PyTorch_YOLOv4](https://github.com/WongKinYiu/PyTorch_YOLOv4)\n",
    "* We develop an MLOPs pipeline that does the following:\n",
    "    * Load the initial dataset\n",
    "    * Preprocess the dataset\n",
    "    * Finetune a pretrained YoloV4 model on FMV data\n",
    "    * Export the model to run on the IBM NorthPole Chip\n",
    "    * Deploy a user facing application to process new FMV videos\n",
    "* We create and end-to-end MLOPs pipeline to show how we can continously update a model based on new data"
   ]
  },
  {
   "cell_type": "code",
   "execution_count": null,
   "id": "20686507-94b8-40c4-91db-9d64383be842",
   "metadata": {},
   "outputs": [],
   "source": [
    "# How will we build this? \n",
    "Using HPE's Machine Learning Operations (MLOps) platform\n",
    "<img src=\"./static/platform_step3.png\" alt=\"Enterprise Machine Learning platform architecture\" width=\"850\">"
   ]
  },
  {
   "cell_type": "code",
   "execution_count": null,
   "id": "76863357-8e79-4194-99fb-11cc0a136799",
   "metadata": {},
   "outputs": [],
   "source": [
    "# Overview of MLOPs Pipeline\n",
    "\n",
    "Our ML Pipline consists:"
   ]
  },
  {
   "cell_type": "code",
   "execution_count": null,
   "id": "80918984-e155-499b-a189-2bc11bf5c4b4",
   "metadata": {},
   "outputs": [],
   "source": [
    "## Install pachctl and connect to pachyderm"
   ]
  },
  {
   "cell_type": "code",
   "execution_count": 1,
   "id": "e90cbdc7-8121-4b02-b709-753257056016",
   "metadata": {},
   "outputs": [
    {
     "name": "stdout",
     "output_type": "stream",
     "text": [
      "New context 'pachd-peer.pachyderm.svc.cluster.local:30653' created, will connect to Pachyderm at grpc://pachd-peer.pachyderm.svc.cluster.local:30653\n",
      "Context 'pachd-peer.pachyderm.svc.cluster.local:30653' set as active\n",
      "COMPONENT           VERSION             \n",
      "pachctl             2.8.2               \n",
      "2024-01-20T00:09:28.800Z\t\u001b[31mERROR\u001b[0m\tclient/client.go:634\tWARNING: Could not inspect project \"default\": error getting project \"default\": project \"default\" not found\n",
      "pachd               2.8.2               \n"
     ]
    }
   ],
   "source": [
    "# Connect to deployed pachyderm application\n",
    "!pachctl connect pachd-peer.pachyderm.svc.cluster.local:30653\n",
    "# list current projects\n",
    "!pachctl version"
   ]
  },
  {
   "cell_type": "code",
   "execution_count": 2,
   "id": "63ce2e26-f52a-45b0-a327-456fc98048e6",
   "metadata": {},
   "outputs": [],
   "source": [
    "## Create project and set active context"
   ]
  },
  {
   "cell_type": "code",
   "execution_count": 3,
   "id": "476e5821-bd25-41fe-af30-2d9b8205ae65",
   "metadata": {},
   "outputs": [
    {
     "name": "stdout",
     "output_type": "stream",
     "text": [
      "2024-01-20T00:09:30.507Z\t\u001b[31mERROR\u001b[0m\tclient/client.go:634\tWARNING: Could not inspect project \"default\": error getting project \"default\": project \"default\" not found\n",
      "project \"north-pole\" already exists\n",
      "project north-pole already exists\n",
      "editing the currently active context \"pachd-peer.pachyderm.svc.cluster.local:30653\"\n"
     ]
    }
   ],
   "source": [
    "# Create Pachyderm application\n",
    "!pachctl create project north-pole\n",
    "# Set pachctl's active context to the deploy-rag project\n",
    "!pachctl config update context --project north-pole"
   ]
  },
  {
   "cell_type": "code",
   "execution_count": 4,
   "id": "3546ee20-e3cc-4775-a444-838a6277d2a6",
   "metadata": {},
   "outputs": [
    {
     "ename": "SyntaxError",
     "evalue": "invalid syntax (2589833664.py, line 2)",
     "output_type": "error",
     "traceback": [
      "\u001b[0;36m  Cell \u001b[0;32mIn[4], line 2\u001b[0;36m\u001b[0m\n\u001b[0;31m    * The data repo contains the documents we will ingest into the vector database and RAG system\u001b[0m\n\u001b[0m          ^\u001b[0m\n\u001b[0;31mSyntaxError\u001b[0m\u001b[0;31m:\u001b[0m invalid syntax\n"
     ]
    }
   ],
   "source": [
    "## Create the data repo. \n",
    "* The data repo contains the documents we will ingest into the vector database and RAG system"
   ]
  },
  {
   "cell_type": "code",
   "execution_count": 5,
   "id": "6a4f0f2a-443d-4713-ae27-a2f40d1a75e6",
   "metadata": {},
   "outputs": [],
   "source": [
    "!pachctl create repo data"
   ]
  },
  {
   "cell_type": "code",
   "execution_count": 6,
   "id": "c1c1d0ee-5a61-41b3-90d6-7b0dc3745710",
   "metadata": {},
   "outputs": [],
   "source": [
    "%%capture\n",
    "!pachctl put file -r  data@master:/ -f /nvmefs1/andrew.mendez/virat-aerial-156-frames-v2-coco-yolov5-subset/"
   ]
  },
  {
   "cell_type": "code",
   "execution_count": 7,
   "id": "80e17f01-9445-421f-9f2c-08b5a3e789bf",
   "metadata": {},
   "outputs": [],
   "source": [
    "# Train Pipeline"
   ]
  },
  {
   "cell_type": "code",
   "execution_count": 8,
   "id": "34b5fb66-c8f1-4ccb-b815-87279001d888",
   "metadata": {},
   "outputs": [
    {
     "name": "stdout",
     "output_type": "stream",
     "text": [
      "Overwriting train.yaml\n"
     ]
    }
   ],
   "source": [
    "%%writefile train.yaml\n",
    "pipeline:\n",
    "    name: 'train'\n",
    "description: 'Finetune model on FMV dataset'\n",
    "input:\n",
    "    cross:\n",
    "        - pfs: \n",
    "            repo: 'data'\n",
    "            branch: 'master'\n",
    "            glob: '/'\n",
    "transform:\n",
    "    image: mendeza/yolov4-env:0.0.2\n",
    "    cmd: \n",
    "        - '/bin/sh'\n",
    "    stdin: \n",
    "        - 'bash /nvmefs1/shared_nb/01\\ -\\ Users/andrew.mendez/2024/PyTorch_YOLOv4/train-pipeline-runner.sh'\n",
    "        - 'echo \"$(openssl rand -base64 12)\" > /pfs/out/random_file.txt'\n",
    "    secrets:\n",
    "        - name: pipeline-secret\n",
    "          key: det_master\n",
    "          env_var: DET_MASTER\n",
    "        - name: pipeline-secret\n",
    "          key: det_user\n",
    "          env_var: DET_USER\n",
    "        - name: pipeline-secret\n",
    "          key: det_password\n",
    "          env_var: DET_PASSWORD\n",
    "        - name: pipeline-secret\n",
    "          key: pac_token\n",
    "          env_var: PAC_TOKEN\n",
    "autoscaling: False\n",
    "pod_patch: >-\n",
    "  [{\"op\": \"add\",\"path\": \"/volumes/-\",\"value\": {\"name\":\n",
    "  \"host-shared\",\"hostpath\": {\"path\":\n",
    "  \"/nvmefs1/\",\"type\": \"Directory\"}}}, {\"op\":\n",
    "  \"add\",\"path\": \"/containers/0/volumeMounts/-\",\"value\": {\"mountPath\":\n",
    "  \"/nvmefs1/\",\"name\": \"host-shared\"}}]"
   ]
  },
  {
   "cell_type": "code",
   "execution_count": 9,
   "id": "a4ee7209-d56a-4abd-8b1c-074e7a645141",
   "metadata": {},
   "outputs": [],
   "source": [
    "!pachctl create pipeline -f train.yaml"
   ]
  },
  {
   "cell_type": "code",
   "execution_count": 12,
   "id": "558e13b8-d9cc-4196-a307-90f508793ab0",
   "metadata": {},
   "outputs": [
    {
     "name": "stdout",
     "output_type": "stream",
     "text": [
      "Overwriting export.yaml\n"
     ]
    }
   ],
   "source": [
    "%%writefile export.yaml\n",
    "pipeline:\n",
    "    name: 'export'\n",
    "description: 'Export trained model for NorthPole Accelerator'\n",
    "input:\n",
    "    cross:\n",
    "        - pfs: \n",
    "            repo: 'data'\n",
    "            branch: 'master'\n",
    "            glob: '/'\n",
    "        - pfs: \n",
    "            repo: 'train'\n",
    "            branch: 'master'\n",
    "            glob: '/'\n",
    "transform:\n",
    "    image: mendeza/yolov4-env:0.0.2\n",
    "    cmd: \n",
    "        - '/bin/sh'\n",
    "    stdin: \n",
    "        - 'bash /nvmefs1/shared_nb/01\\ -\\ Users/andrew.mendez/2024/PyTorch_YOLOv4/export-model-runner.sh'\n",
    "    secrets:\n",
    "        - name: pipeline-secret\n",
    "          key: det_master\n",
    "          env_var: DET_MASTER\n",
    "        - name: pipeline-secret\n",
    "          key: det_user\n",
    "          env_var: DET_USER\n",
    "        - name: pipeline-secret\n",
    "          key: det_password\n",
    "          env_var: DET_PASSWORD\n",
    "        - name: pipeline-secret\n",
    "          key: pac_token\n",
    "          env_var: PAC_TOKEN\n",
    "autoscaling: False\n",
    "pod_patch: >-\n",
    "  [{\"op\": \"add\",\"path\": \"/volumes/-\",\"value\": {\"name\":\n",
    "  \"host-shared\",\"hostpath\": {\"path\":\n",
    "  \"/nvmefs1/\",\"type\": \"Directory\"}}}, {\"op\":\n",
    "  \"add\",\"path\": \"/containers/0/volumeMounts/-\",\"value\": {\"mountPath\":\n",
    "  \"/nvmefs1/\",\"name\": \"host-shared\"}}]"
   ]
  },
  {
   "cell_type": "code",
   "execution_count": null,
   "id": "e3e8fed7-d421-43c4-bcd9-70631a337e27",
   "metadata": {},
   "outputs": [],
   "source": []
  },
  {
   "cell_type": "code",
   "execution_count": 13,
   "id": "1f29136f-9305-4c7f-b781-db292e46d5f7",
   "metadata": {},
   "outputs": [],
   "source": [
    "!pachctl create pipeline -f export.yaml"
   ]
  },
  {
   "cell_type": "code",
   "execution_count": 26,
   "id": "b1fcafed-d8cd-4134-a237-02a5f93c054d",
   "metadata": {},
   "outputs": [
    {
     "name": "stdout",
     "output_type": "stream",
     "text": [
      "Overwriting deploy.yaml\n"
     ]
    }
   ],
   "source": [
    "%%writefile deploy.yaml\n",
    "pipeline:\n",
    "    name: 'deploy'\n",
    "description: 'Deploy application'\n",
    "input:\n",
    "    cross:\n",
    "        - pfs: \n",
    "            repo: 'data'\n",
    "            branch: 'master'\n",
    "            glob: '/'\n",
    "        - pfs: \n",
    "            repo: 'export'\n",
    "            branch: 'master'\n",
    "            glob: '/'\n",
    "transform:\n",
    "    image: mendeza/yolov4-env:0.0.2\n",
    "    cmd: \n",
    "        - '/bin/sh'\n",
    "    stdin: \n",
    "        - 'bash /nvmefs1/shared_nb/01\\ -\\ Users/andrew.mendez/2024/PyTorch_YOLOv4/app/deploy.sh'\n",
    "        - 'echo \"$(openssl rand -base64 12)\" > /pfs/out/random_file.txt'\n",
    "    secrets:\n",
    "        - name: pipeline-secret\n",
    "          key: det_master\n",
    "          env_var: DET_MASTER\n",
    "        - name: pipeline-secret\n",
    "          key: det_user\n",
    "          env_var: DET_USER\n",
    "        - name: pipeline-secret\n",
    "          key: det_password\n",
    "          env_var: DET_PASSWORD\n",
    "        - name: pipeline-secret\n",
    "          key: pac_token\n",
    "          env_var: PAC_TOKEN\n",
    "autoscaling: False\n",
    "pod_patch: >-\n",
    "  [{\"op\": \"add\",\"path\": \"/volumes/-\",\"value\": {\"name\":\n",
    "  \"host-shared\",\"hostpath\": {\"path\":\n",
    "  \"/nvmefs1/\",\"type\": \"Directory\"}}}, {\"op\":\n",
    "  \"add\",\"path\": \"/containers/0/volumeMounts/-\",\"value\": {\"mountPath\":\n",
    "  \"/nvmefs1/\",\"name\": \"host-shared\"}}]"
   ]
  },
  {
   "cell_type": "code",
   "execution_count": null,
   "id": "6044ddee-46b4-459b-b598-d95726c6eac5",
   "metadata": {},
   "outputs": [],
   "source": [
    "        \n"
   ]
  },
  {
   "cell_type": "code",
   "execution_count": 19,
   "id": "73db79dc-2bce-4969-975e-b5844b872611",
   "metadata": {},
   "outputs": [],
   "source": [
    "# run pipeline"
   ]
  },
  {
   "cell_type": "code",
   "execution_count": 27,
   "id": "d49b763f-cc76-4091-8bd8-67acd900b7df",
   "metadata": {},
   "outputs": [],
   "source": [
    "!pachctl create pipeline -f deploy.yaml"
   ]
  },
  {
   "cell_type": "code",
   "execution_count": null,
   "id": "8c57a561-2d53-415f-a0dd-fcb98b080d57",
   "metadata": {},
   "outputs": [],
   "source": []
  }
 ],
 "metadata": {
  "kernelspec": {
   "display_name": "Python 3 (ipykernel)",
   "language": "python",
   "name": "python3"
  },
  "language_info": {
   "codemirror_mode": {
    "name": "ipython",
    "version": 3
   },
   "file_extension": ".py",
   "mimetype": "text/x-python",
   "name": "python",
   "nbconvert_exporter": "python",
   "pygments_lexer": "ipython3",
   "version": "3.8.16"
  }
 },
 "nbformat": 4,
 "nbformat_minor": 5
}

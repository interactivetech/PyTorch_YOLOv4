{
 "cells": [
  {
   "cell_type": "code",
   "execution_count": 1,
   "id": "e45947db-262e-45e4-a8e2-672b055ec272",
   "metadata": {},
   "outputs": [],
   "source": [
    "# xview convert"
   ]
  },
  {
   "cell_type": "code",
   "execution_count": 5,
   "id": "ba84a999-4d2a-4cb7-9236-f1809f40f477",
   "metadata": {},
   "outputs": [],
   "source": [
    "import json\n",
    "import os\n",
    "from pathlib import Path\n",
    "\n",
    "import numpy as np\n",
    "from PIL import Image\n",
    "from tqdm import tqdm\n",
    "\n",
    "# from utils.dataloaders import autosplit\n",
    "# from utils.general import xyxy2xywhn\n"
   ]
  },
  {
   "cell_type": "code",
   "execution_count": 10,
   "id": "f9a27c20-bc23-4fa8-86b7-d3036e0f63d3",
   "metadata": {},
   "outputs": [
    {
     "name": "stdout",
     "output_type": "stream",
     "text": [
      "Loading /nvmefs1/andrew.mendez/xview_full_dataset/xView_train.geojson...\n"
     ]
    }
   ],
   "source": [
    "fname = Path('/nvmefs1/andrew.mendez/xview_full_dataset/xView_train.geojson')\n",
    "with open(fname) as f:\n",
    "      print(f'Loading {fname}...')\n",
    "      data = json.load(f)"
   ]
  },
  {
   "cell_type": "code",
   "execution_count": 12,
   "id": "85e8f12e-a494-4de3-85f8-4139a297b8e9",
   "metadata": {},
   "outputs": [
    {
     "name": "stderr",
     "output_type": "stream",
     "text": [
      "Converting /nvmefs1/andrew.mendez/xview_full_dataset/xView_train.geojson: 100%|██████████| 601937/601937 [00:03<00:00, 198057.60it/s]\n"
     ]
    }
   ],
   "source": [
    "shapes = {}\n",
    "path=fname.parent\n",
    "for feature in tqdm(data['features'], desc=f'Converting {fname}'):\n",
    "  p = feature['properties']\n",
    "  if p['bounds_imcoords']:\n",
    "    id = p['image_id']\n",
    "    file = path / 'train_images' / id\n",
    "    # print(id)\n",
    "    # break"
   ]
  },
  {
   "cell_type": "code",
   "execution_count": null,
   "id": "fd06186c-9dc5-4a8f-80ec-9f7a327e5b66",
   "metadata": {},
   "outputs": [],
   "source": [
    "def convert_labels(fname=Path('xView/xView_train.geojson')):\n",
    "  # Convert xView geoJSON labels to YOLO format\n",
    "  path = fname.parent\n",
    "  with open(fname) as f:\n",
    "      print(f'Loading {fname}...')\n",
    "      data = json.load(f)\n",
    "\n",
    "  # Make dirs\n",
    "  labels = Path(path / 'labels' / 'train')\n",
    "  os.system(f'rm -rf {labels}')\n",
    "  labels.mkdir(parents=True, exist_ok=True)\n",
    "\n",
    "  # xView classes 11-94 to 0-59\n",
    "  xview_class2index = [-1, -1, -1, -1, -1, -1, -1, -1, -1, -1, -1, 0, 1, 2, -1, 3, -1, 4, 5, 6, 7, 8, -1, 9, 10, 11,\n",
    "                       12, 13, 14, 15, -1, -1, 16, 17, 18, 19, 20, 21, 22, -1, 23, 24, 25, -1, 26, 27, -1, 28, -1,\n",
    "                       29, 30, 31, 32, 33, 34, 35, 36, 37, -1, 38, 39, 40, 41, 42, 43, 44, 45, -1, -1, -1, -1, 46,\n",
    "                       47, 48, 49, -1, 50, 51, -1, 52, -1, -1, -1, 53, 54, -1, 55, -1, -1, 56, -1, 57, -1, 58, 59]\n",
    "\n",
    "  shapes = {}\n",
    "  for feature in tqdm(data['features'], desc=f'Converting {fname}'):\n",
    "      p = feature['properties']\n",
    "      if p['bounds_imcoords']:\n",
    "          id = p['image_id']\n",
    "          file = path / 'train_images' / id\n",
    "          if file.exists():  # 1395.tif missing\n",
    "              try:\n",
    "                  box = np.array([int(num) for num in p['bounds_imcoords'].split(\",\")])\n",
    "                  assert box.shape[0] == 4, f'incorrect box shape {box.shape[0]}'\n",
    "                  cls = p['type_id']\n",
    "                  cls = xview_class2index[int(cls)]  # xView class to 0-60\n",
    "                  assert 59 >= cls >= 0, f'incorrect class index {cls}'\n",
    "\n",
    "                  # Write YOLO label\n",
    "                  if id not in shapes:\n",
    "                      shapes[id] = Image.open(file).size\n",
    "                  box = xyxy2xywhn(box[None].astype(np.float), w=shapes[id][0], h=shapes[id][1], clip=True)\n",
    "                  with open((labels / id).with_suffix('.txt'), 'a') as f:\n",
    "                      f.write(f\"{cls} {' '.join(f'{x:.6f}' for x in box[0])}\\n\")  # write label.txt\n",
    "              except Exception as e:\n",
    "                  print(f'WARNING: skipping one label for {file}: {e}')\n",
    "\n",
    "\n",
    "# Download manually from https://challenge.xviewdataset.org\n",
    "dir = Path('/nvmefs1/andrew.mendez/xview_full_dataset/xView_train.geojson')  # dataset root dir\n",
    "# urls = ['https://d307kc0mrhucc3.cloudfront.net/train_labels.zip',  # train labels\n",
    "#         'https://d307kc0mrhucc3.cloudfront.net/train_images.zip',  # 15G, 847 train images\n",
    "#         'https://d307kc0mrhucc3.cloudfront.net/val_images.zip']  # 5G, 282 val images (no labels)\n",
    "# download(urls, dir=dir, delete=False)\n",
    "\n",
    "# Convert labels\n",
    "convert_labels(dir / 'xView_train.geojson')\n",
    "\n",
    "# # Move images\n",
    "images = Path(dir / 'images')\n",
    "images.mkdir(parents=True, exist_ok=True)\n",
    "Path(dir / 'train_images').rename(dir / 'images' / 'train')\n",
    "# Path(dir / 'val_images').rename(dir / 'images' / 'val')\n",
    "\n",
    "# # Split\n",
    "# autosplit(dir / 'images' / 'train')"
   ]
  }
 ],
 "metadata": {
  "kernelspec": {
   "display_name": "Python 3 (ipykernel)",
   "language": "python",
   "name": "python3"
  },
  "language_info": {
   "codemirror_mode": {
    "name": "ipython",
    "version": 3
   },
   "file_extension": ".py",
   "mimetype": "text/x-python",
   "name": "python",
   "nbconvert_exporter": "python",
   "pygments_lexer": "ipython3",
   "version": "3.8.16"
  }
 },
 "nbformat": 4,
 "nbformat_minor": 5
}
